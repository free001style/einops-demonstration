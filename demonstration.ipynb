{
 "cells": [
  {
   "cell_type": "markdown",
   "metadata": {},
   "source": [
    "Сегодня мы рассмотрим библиотеку [einops](https://github.com/arogozhnikov/einops). Единственная функция этой библиотеки --- это упростить код и сделаеть его более читаемым. Все преобразованияо на формой и структурой тензора с помощью этой библиотеки можно задавать в виде строки с понятными обозначениями.\n",
    "\n",
    "einops работает со следующими библиотеками: numpy, torch, jax, tensorflow, tinygrad, etc."
   ]
  },
  {
   "cell_type": "code",
   "execution_count": null,
   "metadata": {},
   "outputs": [],
   "source": [
    "from einops import rearrange, reduce\n",
    "import torch"
   ]
  },
  {
   "cell_type": "markdown",
   "metadata": {},
   "source": [
    "Сначала посмотрим, что могут делать базовые функции `rearrange` и `reduce`:\n",
    "\n",
    "`rearrange` изменяет форму тензора согласно переданной строке"
   ]
  },
  {
   "cell_type": "code",
   "execution_count": null,
   "metadata": {},
   "outputs": [
    {
     "data": {
      "text/plain": [
       "torch.Size([10, 32, 32, 3])"
      ]
     },
     "execution_count": 5,
     "metadata": {},
     "output_type": "execute_result"
    }
   ],
   "source": [
    "rearrange(torch.randn(10, 3, 32, 32), \"b c h w -> b h w c\").shape  # аналог permute"
   ]
  },
  {
   "cell_type": "code",
   "execution_count": 13,
   "metadata": {},
   "outputs": [
    {
     "data": {
      "text/plain": [
       "torch.Size([10, 1, 3, 32, 32])"
      ]
     },
     "execution_count": 13,
     "metadata": {},
     "output_type": "execute_result"
    }
   ],
   "source": [
    "rearrange(torch.randn(10, 3, 32, 32), \"b c h w -> b 1 c h w\").shape  # аналог unsqueeze(1)"
   ]
  },
  {
   "cell_type": "code",
   "execution_count": 9,
   "metadata": {},
   "outputs": [
    {
     "data": {
      "text/plain": [
       "torch.Size([10, 3072])"
      ]
     },
     "execution_count": 9,
     "metadata": {},
     "output_type": "execute_result"
    }
   ],
   "source": [
    "rearrange(torch.randn(10, 3, 32, 32), \"b c h w -> b (c h w)\").shape  # аналог flatten(1)"
   ]
  },
  {
   "cell_type": "markdown",
   "metadata": {},
   "source": [
    "Понятно, что вместо `b c h w` можно писать `batch channel height width`"
   ]
  },
  {
   "cell_type": "markdown",
   "metadata": {},
   "source": [
    "`reduce` совмещает в себе изменение формы плюс уменьшение нужных размерностей"
   ]
  },
  {
   "cell_type": "code",
   "execution_count": null,
   "metadata": {},
   "outputs": [
    {
     "data": {
      "text/plain": [
       "torch.Size([10, 3, 16, 16])"
      ]
     },
     "execution_count": 11,
     "metadata": {},
     "output_type": "execute_result"
    }
   ],
   "source": [
    "reduce(torch.randn(10, 3, 32, 32), \"b c (h 2) (w 2) -> b c h w\", \"mean\").shape # аналог average pooling с ядром 2"
   ]
  },
  {
   "cell_type": "markdown",
   "metadata": {},
   "source": [
    "Теперь посмотрим, как можно упрощать большие куски кода с помощью этой библиотеки. Для этого в файле `attention.py` написаны две реализации MultiHeadSelfAttetnion."
   ]
  },
  {
   "cell_type": "code",
   "execution_count": 32,
   "metadata": {},
   "outputs": [],
   "source": [
    "from attention import MHSA, MHSAEinops\n",
    "from einops.layers.torch import Rearrange"
   ]
  },
  {
   "cell_type": "code",
   "execution_count": 35,
   "metadata": {},
   "outputs": [],
   "source": [
    "torch.manual_seed(0)\n",
    "\n",
    "mhsa = MHSA()\n",
    "proj = torch.nn.Sequential(\n",
    "    Rearrange(\"b c (h p1) (w p2) -> b (h w) (c p1 p2)\", p1=2, p2=2),\n",
    "    torch.nn.Linear(3 * 2 * 2, 512)\n",
    ")\n",
    "x = torch.randn(16, 3, 32, 32)\n",
    "output_mhsa = mhsa(proj(x))"
   ]
  },
  {
   "cell_type": "code",
   "execution_count": 36,
   "metadata": {},
   "outputs": [],
   "source": [
    "torch.manual_seed(0)\n",
    "\n",
    "mhsa_einops = MHSAEinops()\n",
    "output_mhsa_einops = mhsa(proj(x))"
   ]
  },
  {
   "cell_type": "code",
   "execution_count": 37,
   "metadata": {},
   "outputs": [
    {
     "data": {
      "text/plain": [
       "True"
      ]
     },
     "execution_count": 37,
     "metadata": {},
     "output_type": "execute_result"
    }
   ],
   "source": [
    "torch.allclose(output_mhsa, output_mhsa_einops)"
   ]
  }
 ],
 "metadata": {
  "kernelspec": {
   "display_name": ".venv",
   "language": "python",
   "name": "python3"
  },
  "language_info": {
   "codemirror_mode": {
    "name": "ipython",
    "version": 3
   },
   "file_extension": ".py",
   "mimetype": "text/x-python",
   "name": "python",
   "nbconvert_exporter": "python",
   "pygments_lexer": "ipython3",
   "version": "3.11.11"
  }
 },
 "nbformat": 4,
 "nbformat_minor": 2
}
